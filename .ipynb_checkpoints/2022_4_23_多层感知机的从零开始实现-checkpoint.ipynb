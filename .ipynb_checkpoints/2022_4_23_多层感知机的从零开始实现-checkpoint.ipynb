{
 "cells": [
  {
   "cell_type": "code",
   "execution_count": 2,
   "id": "611f86d8",
   "metadata": {},
   "outputs": [],
   "source": [
    "import d2lzh as d2l\n",
    "from mxnet import nd \n",
    "from mxnet.gluon import loss as gloss"
   ]
  },
  {
   "cell_type": "code",
   "execution_count": 3,
   "id": "70007013",
   "metadata": {},
   "outputs": [],
   "source": [
    "batch_size = 256 \n",
    "train_iter,test_iter  = d2l.load_data_fashion_mnist(batch_size)"
   ]
  },
  {
   "cell_type": "code",
   "execution_count": 5,
   "id": "27457f23",
   "metadata": {},
   "outputs": [],
   "source": [
    "# 定义模型参数\n",
    "num_inputs,num_outputs,num_hiddens = 784,10,256\n",
    "W1=nd.random.normal(scale=0.01,shape=(num_inputs,num_hiddens))\n",
    "b1=nd.zeros(num_hiddens)\n",
    "W2=nd.random.normal(scale=0.01,shape=(num_hiddens,num_outputs))\n",
    "b2=nd.zeros(num_outputs)\n",
    "params=[W1,b1,W2,b2]\n",
    "for param in params:\n",
    "    param.attach_grad()"
   ]
  },
  {
   "cell_type": "code",
   "execution_count": 6,
   "id": "b34d8f77",
   "metadata": {},
   "outputs": [],
   "source": [
    "# 定义激活函数\n",
    "def relu(X):\n",
    "    return nd.maximum(X,0)"
   ]
  },
  {
   "cell_type": "code",
   "execution_count": 7,
   "id": "7fc146d4",
   "metadata": {},
   "outputs": [],
   "source": [
    "# 定义模型\n",
    "def net(X):\n",
    "    X=X.reshape((-1,num_inputs))\n",
    "    H= relu(nd.dot(X,W1)+b1)\n",
    "    return nd.dot(H,W2)+b2"
   ]
  },
  {
   "cell_type": "code",
   "execution_count": 9,
   "id": "555abed8",
   "metadata": {},
   "outputs": [],
   "source": [
    "# 定义损失函数\n",
    "loss = gloss.SoftmaxCrossEntropyLoss()"
   ]
  },
  {
   "cell_type": "code",
   "execution_count": 10,
   "id": "7ed7c33c",
   "metadata": {},
   "outputs": [
    {
     "name": "stdout",
     "output_type": "stream",
     "text": [
      "epoch 1, loss 0.8141, train acc 0.697, test acc 0.817\n",
      "epoch 2, loss 0.4906, train acc 0.819, test acc 0.835\n",
      "epoch 3, loss 0.4322, train acc 0.839, test acc 0.862\n",
      "epoch 4, loss 0.3980, train acc 0.853, test acc 0.867\n",
      "epoch 5, loss 0.3720, train acc 0.864, test acc 0.872\n"
     ]
    }
   ],
   "source": [
    "# 训练模型\n",
    "num_epochs,lr = 5,0.5\n",
    "d2l.train_ch3(net,train_iter,test_iter,loss,num_epochs,batch_size,params,lr)"
   ]
  },
  {
   "cell_type": "code",
   "execution_count": null,
   "id": "a040a570",
   "metadata": {},
   "outputs": [],
   "source": []
  }
 ],
 "metadata": {
  "kernelspec": {
   "display_name": "Python 3",
   "language": "python",
   "name": "python3"
  },
  "language_info": {
   "codemirror_mode": {
    "name": "ipython",
    "version": 3
   },
   "file_extension": ".py",
   "mimetype": "text/x-python",
   "name": "python",
   "nbconvert_exporter": "python",
   "pygments_lexer": "ipython3",
   "version": "3.6.13"
  }
 },
 "nbformat": 4,
 "nbformat_minor": 5
}
