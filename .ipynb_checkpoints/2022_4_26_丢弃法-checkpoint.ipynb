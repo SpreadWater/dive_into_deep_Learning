{
 "cells": [
  {
   "cell_type": "code",
   "execution_count": 1,
   "id": "4c987218",
   "metadata": {},
   "outputs": [],
   "source": [
    "import d2lzh as d2l\n",
    "from mxnet import autograd,gluon,init,nd\n",
    "from mxnet.gluon import loss as gloss, nn"
   ]
  },
  {
   "cell_type": "code",
   "execution_count": 2,
   "id": "eec31150",
   "metadata": {},
   "outputs": [],
   "source": [
    "def dropout(X, drop_prob):\n",
    "    assert 0<= drop_prob <=1\n",
    "    keep_prob = 1 - drop_prob\n",
    "    if keep_prob == 0:\n",
    "        return X.zeros_like()\n",
    "    mask = nd.random.uniform(0,1,X.shape) < keep_prob\n",
    "    return mask * X/keep_prob"
   ]
  },
  {
   "cell_type": "code",
   "execution_count": 3,
   "id": "0aa66f05",
   "metadata": {},
   "outputs": [
    {
     "data": {
      "text/plain": [
       "\n",
       "[[ 0.  1.  2.  3.  4.  5.  6.  7.]\n",
       " [ 8.  9. 10. 11. 12. 13. 14. 15.]]\n",
       "<NDArray 2x8 @cpu(0)>"
      ]
     },
     "execution_count": 3,
     "metadata": {},
     "output_type": "execute_result"
    }
   ],
   "source": [
    "X = nd.arange(16).reshape((2,8))\n",
    "dropout(X,0)"
   ]
  },
  {
   "cell_type": "code",
   "execution_count": 4,
   "id": "29e09a8f",
   "metadata": {},
   "outputs": [
    {
     "data": {
      "text/plain": [
       "\n",
       "[[ 0.  2.  4.  6.  0.  0.  0. 14.]\n",
       " [ 0. 18.  0.  0. 24. 26. 28.  0.]]\n",
       "<NDArray 2x8 @cpu(0)>"
      ]
     },
     "execution_count": 4,
     "metadata": {},
     "output_type": "execute_result"
    }
   ],
   "source": [
    "dropout(X,0.5)"
   ]
  },
  {
   "cell_type": "code",
   "execution_count": 5,
   "id": "e8cd0b0a",
   "metadata": {},
   "outputs": [
    {
     "data": {
      "text/plain": [
       "\n",
       "[[0. 0. 0. 0. 0. 0. 0. 0.]\n",
       " [0. 0. 0. 0. 0. 0. 0. 0.]]\n",
       "<NDArray 2x8 @cpu(0)>"
      ]
     },
     "execution_count": 5,
     "metadata": {},
     "output_type": "execute_result"
    }
   ],
   "source": [
    "dropout(X,1)"
   ]
  },
  {
   "cell_type": "code",
   "execution_count": 6,
   "id": "cc72d92e",
   "metadata": {},
   "outputs": [],
   "source": [
    "# 定义模型参数\n",
    "num_inputs, num_outputs, num_hiddens1, num_hiddens2 = 784,10,256,256\n",
    "W1=nd.random.normal(scale=0.01,shape=(num_inputs,num_hiddens1))\n",
    "b1=nd.zeros(num_hiddens1)\n",
    "W2=nd.random.normal(scale=0.01,shape=(num_hiddens1,num_hiddens2))\n",
    "b2=nd.zeros(num_hiddens2)\n",
    "W3=nd.random.normal(scale=0.01,shape=(num_hiddens2,num_outputs))\n",
    "b3=nd.zeros(num_outputs)\n",
    "\n",
    "params= [W1, b1, W2, b2, W3, b3]\n",
    "for param in params:\n",
    "    param.attach_grad()"
   ]
  },
  {
   "cell_type": "code",
   "execution_count": 7,
   "id": "37039dda",
   "metadata": {},
   "outputs": [],
   "source": [
    "# 定义模型\n",
    "drop_prob1, drop_prob2 = 0.2, 0.5\n",
    "\n",
    "def net(X):\n",
    "    X = X.reshape((-1,num_inputs))\n",
    "    H1 = (nd.dot(X,W1)+b1).relu()\n",
    "    if autograd.is_training():\n",
    "        # 只在训练模型时使用丢弃法\n",
    "        H1 = dropout(H1,drop_prob1)\n",
    "    H2 = (nd.dot(H1,W2)+b2).relu()\n",
    "    if autograd.is_training():\n",
    "        H2 = dropout(H2,drop_prob2)\n",
    "    return nd.dot(H2,W3)+b3"
   ]
  },
  {
   "cell_type": "code",
   "execution_count": 8,
   "id": "5119add8",
   "metadata": {},
   "outputs": [
    {
     "name": "stdout",
     "output_type": "stream",
     "text": [
      "epoch 1, loss 1.1875, train acc 0.539, test acc 0.732\n",
      "epoch 2, loss 0.5917, train acc 0.778, test acc 0.823\n",
      "epoch 3, loss 0.5008, train acc 0.816, test acc 0.849\n",
      "epoch 4, loss 0.4482, train acc 0.838, test acc 0.861\n",
      "epoch 5, loss 0.4293, train acc 0.842, test acc 0.847\n"
     ]
    }
   ],
   "source": [
    "# 训练和测试模型\n",
    "num_epochs, lr, batch_size = 5,0.5,256\n",
    "loss = gloss.SoftmaxCrossEntropyLoss()\n",
    "train_iter, test_iter = d2l.load_data_fashion_mnist(batch_size)\n",
    "d2l.train_ch3(net,train_iter,test_iter,loss,num_epochs,batch_size,params,lr)"
   ]
  },
  {
   "cell_type": "code",
   "execution_count": null,
   "id": "03720b27",
   "metadata": {},
   "outputs": [],
   "source": []
  }
 ],
 "metadata": {
  "kernelspec": {
   "display_name": "Python 3",
   "language": "python",
   "name": "python3"
  },
  "language_info": {
   "codemirror_mode": {
    "name": "ipython",
    "version": 3
   },
   "file_extension": ".py",
   "mimetype": "text/x-python",
   "name": "python",
   "nbconvert_exporter": "python",
   "pygments_lexer": "ipython3",
   "version": "3.6.13"
  }
 },
 "nbformat": 4,
 "nbformat_minor": 5
}
