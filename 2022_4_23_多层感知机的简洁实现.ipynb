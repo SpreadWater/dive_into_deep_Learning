{
 "cells": [
  {
   "cell_type": "code",
   "execution_count": 1,
   "id": "3d36f236",
   "metadata": {},
   "outputs": [],
   "source": [
    "import d2lzh as d2l\n",
    "from mxnet import gluon,init\n",
    "from mxnet.gluon import loss as gloss,nn"
   ]
  },
  {
   "cell_type": "code",
   "execution_count": 2,
   "id": "4ea19478",
   "metadata": {},
   "outputs": [],
   "source": [
    "# 定义模型\n",
    "net = nn.Sequential()\n",
    "net.add(nn.Dense(256,activation='relu'),nn.Dense(10))\n",
    "net.initialize(init.Normal(sigma=0.01))"
   ]
  },
  {
   "cell_type": "code",
   "execution_count": 4,
   "id": "1aa35452",
   "metadata": {},
   "outputs": [
    {
     "name": "stdout",
     "output_type": "stream",
     "text": [
      "epoch 1, loss 0.7956, train acc 0.701, test acc 0.825\n",
      "epoch 2, loss 0.4947, train acc 0.817, test acc 0.851\n",
      "epoch 3, loss 0.4243, train acc 0.844, test acc 0.860\n",
      "epoch 4, loss 0.3924, train acc 0.856, test acc 0.866\n",
      "epoch 5, loss 0.3718, train acc 0.862, test acc 0.873\n"
     ]
    }
   ],
   "source": [
    "# 训练模型\n",
    "batch_size=256\n",
    "train_iter,test_iter=d2l.load_data_fashion_mnist(batch_size)\n",
    "loss=gloss.SoftmaxCrossEntropyLoss()\n",
    "trainer= gluon.Trainer(net.collect_params(),'sgd',{'learning_rate':0.5})\n",
    "num_epochs=5\n",
    "d2l.train_ch3(net,train_iter,test_iter,loss,num_epochs,batch_size,None,None,trainer)"
   ]
  },
  {
   "cell_type": "code",
   "execution_count": null,
   "id": "af6f41d5",
   "metadata": {},
   "outputs": [],
   "source": []
  },
  {
   "cell_type": "code",
   "execution_count": null,
   "id": "39876422",
   "metadata": {},
   "outputs": [],
   "source": []
  }
 ],
 "metadata": {
  "kernelspec": {
   "display_name": "Python 3",
   "language": "python",
   "name": "python3"
  },
  "language_info": {
   "codemirror_mode": {
    "name": "ipython",
    "version": 3
   },
   "file_extension": ".py",
   "mimetype": "text/x-python",
   "name": "python",
   "nbconvert_exporter": "python",
   "pygments_lexer": "ipython3",
   "version": "3.6.13"
  }
 },
 "nbformat": 4,
 "nbformat_minor": 5
}
