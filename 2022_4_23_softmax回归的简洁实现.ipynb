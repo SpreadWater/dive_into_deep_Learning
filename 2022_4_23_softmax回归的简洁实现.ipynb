{
 "cells": [
  {
   "cell_type": "code",
   "execution_count": 1,
   "id": "d908b2b1",
   "metadata": {},
   "outputs": [],
   "source": [
    "import d2lzh as d2l\n",
    "from mxnet import gluon, init\n",
    "from mxnet.gluon import loss as gloss,nn"
   ]
  },
  {
   "cell_type": "code",
   "execution_count": 3,
   "id": "e90bd3b5",
   "metadata": {},
   "outputs": [],
   "source": [
    "batch_size=256\n",
    "train_iter,test_iter = d2l.load_data_fashion_mnist(batch_size)"
   ]
  },
  {
   "cell_type": "code",
   "execution_count": 12,
   "id": "a7c2a81f",
   "metadata": {},
   "outputs": [],
   "source": [
    "# 定义和初始化模型\n",
    "net = nn.Sequential()\n",
    "net.add(nn.Dense(10))\n",
    "net.initialize(init.Normal(sigma=0.01))"
   ]
  },
  {
   "cell_type": "code",
   "execution_count": 5,
   "id": "61285596",
   "metadata": {},
   "outputs": [],
   "source": [
    "loss = gloss.SoftmaxCrossEntropyLoss()"
   ]
  },
  {
   "cell_type": "code",
   "execution_count": 13,
   "id": "f5970830",
   "metadata": {},
   "outputs": [],
   "source": [
    "# 定义优化算法\n",
    "trainer = gluon.Trainer(net.collect_params(),'sgd',{'learning_rate':0.1})"
   ]
  },
  {
   "cell_type": "code",
   "execution_count": 14,
   "id": "e8afd595",
   "metadata": {},
   "outputs": [
    {
     "name": "stdout",
     "output_type": "stream",
     "text": [
      "epoch 1, loss 0.7881, train acc 0.746, test acc 0.793\n",
      "epoch 2, loss 0.5753, train acc 0.811, test acc 0.823\n",
      "epoch 3, loss 0.5297, train acc 0.824, test acc 0.831\n",
      "epoch 4, loss 0.5063, train acc 0.830, test acc 0.834\n",
      "epoch 5, loss 0.4892, train acc 0.835, test acc 0.839\n"
     ]
    }
   ],
   "source": [
    "# 训练模型\n",
    "num_epochs = 5\n",
    "d2l.train_ch3(net,train_iter,test_iter,loss,num_epochs,batch_size,None,None,trainer)"
   ]
  },
  {
   "cell_type": "code",
   "execution_count": null,
   "id": "b10455b7",
   "metadata": {},
   "outputs": [],
   "source": []
  }
 ],
 "metadata": {
  "kernelspec": {
   "display_name": "Python 3",
   "language": "python",
   "name": "python3"
  },
  "language_info": {
   "codemirror_mode": {
    "name": "ipython",
    "version": 3
   },
   "file_extension": ".py",
   "mimetype": "text/x-python",
   "name": "python",
   "nbconvert_exporter": "python",
   "pygments_lexer": "ipython3",
   "version": "3.6.13"
  }
 },
 "nbformat": 4,
 "nbformat_minor": 5
}
