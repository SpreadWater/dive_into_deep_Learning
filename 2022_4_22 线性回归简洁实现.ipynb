{
 "cells": [
  {
   "cell_type": "code",
   "execution_count": 2,
   "id": "69f3d7f3",
   "metadata": {},
   "outputs": [],
   "source": [
    "from mxnet import autograd,nd"
   ]
  },
  {
   "cell_type": "code",
   "execution_count": 3,
   "id": "83ea5d9d",
   "metadata": {},
   "outputs": [],
   "source": [
    "# 生成数据集\n",
    "num_inputs=2\n",
    "num_examples=1000\n",
    "true_w=[2,-3.4]\n",
    "true_b=4.2\n",
    "features=nd.random.normal(scale=1,shape=(num_examples,num_inputs))\n",
    "labels=true_w[0]*features[:,0]+true_w[1]*features[:,1] +true_b\n",
    "labels +=nd.random.normal(scale=0.01,shape=labels.shape)"
   ]
  },
  {
   "cell_type": "code",
   "execution_count": 6,
   "id": "db0090a4",
   "metadata": {},
   "outputs": [],
   "source": [
    "# 读取数据集\n",
    "from mxnet.gluon import data as gdata\n",
    "batch_size=10\n",
    "# 将训练数据的特征和标签组合\n",
    "dataset=gdata.ArrayDataset(features,labels)\n",
    "# 随机读取小批量\n",
    "data_iter=gdata.DataLoader(dataset,batch_size,shuffle=True)"
   ]
  },
  {
   "cell_type": "code",
   "execution_count": 7,
   "id": "5c32b4a3",
   "metadata": {},
   "outputs": [
    {
     "name": "stdout",
     "output_type": "stream",
     "text": [
      "\n",
      "[[-0.20673814 -1.4803213 ]\n",
      " [ 1.2168038  -0.5497378 ]\n",
      " [ 1.1491978   0.55912226]\n",
      " [-0.8112422   0.1232819 ]\n",
      " [-0.3119583   0.14718944]\n",
      " [ 0.6277698   0.08966792]\n",
      " [ 0.1757906   0.74375474]\n",
      " [-0.03888128 -1.0470151 ]\n",
      " [ 0.16131908 -1.5623351 ]\n",
      " [-0.65829736 -0.8947655 ]]\n",
      "<NDArray 10x2 @cpu(0)> \n",
      "[8.816621  8.521942  4.6017094 2.1691186 3.0846195 5.157996  2.036555\n",
      " 7.676314  9.846485  5.929458 ]\n",
      "<NDArray 10 @cpu(0)>\n"
     ]
    }
   ],
   "source": [
    "for X,y in data_iter:\n",
    "    print(X,y)\n",
    "    break"
   ]
  },
  {
   "cell_type": "code",
   "execution_count": 8,
   "id": "dabcc7d4",
   "metadata": {},
   "outputs": [],
   "source": [
    "from mxnet.gluon import nn\n",
    "net = nn.Sequential()"
   ]
  },
  {
   "cell_type": "code",
   "execution_count": 9,
   "id": "2553f55e",
   "metadata": {},
   "outputs": [],
   "source": [
    "net.add(nn.Dense(1))"
   ]
  },
  {
   "cell_type": "code",
   "execution_count": 10,
   "id": "bbebb43b",
   "metadata": {},
   "outputs": [],
   "source": [
    "# 初始化模型参数\n",
    "from mxnet import init \n",
    "net.initialize(init.Normal(sigma=0.01))"
   ]
  },
  {
   "cell_type": "code",
   "execution_count": 12,
   "id": "8ff161ce",
   "metadata": {},
   "outputs": [],
   "source": [
    "# 定义损失函数ye\n",
    "from mxnet.gluon import loss as gloss\n",
    "loss = gloss.L2Loss() # 平方损失也叫L2范数损失"
   ]
  },
  {
   "cell_type": "code",
   "execution_count": 13,
   "id": "dcd0859f",
   "metadata": {},
   "outputs": [],
   "source": [
    "# 定义优化算法\n",
    "from mxnet import gluon\n",
    "trainer = gluon.Trainer(net.collect_params(),'sgd',{'learning_rate':0.03})"
   ]
  },
  {
   "cell_type": "code",
   "execution_count": 15,
   "id": "f0d89369",
   "metadata": {},
   "outputs": [
    {
     "name": "stdout",
     "output_type": "stream",
     "text": [
      "epoch1,loss:0.035195\n",
      "epoch2,loss:0.000127\n",
      "epoch3,loss:0.000049\n"
     ]
    }
   ],
   "source": [
    "# 训练模型\n",
    "num_epochs = 3\n",
    "for epoch in range(1,num_epochs+1):\n",
    "    for X,y in data_iter:\n",
    "        with autograd.record():\n",
    "            l = loss(net(X),y)\n",
    "        l.backward()\n",
    "        trainer.step(batch_size)\n",
    "    l = loss(net(features),labels)\n",
    "    print('epoch%d,loss:%f' %(epoch,l.mean().asnumpy()))"
   ]
  },
  {
   "cell_type": "code",
   "execution_count": 16,
   "id": "88b25f0f",
   "metadata": {},
   "outputs": [],
   "source": [
    "dense = net[0]"
   ]
  },
  {
   "cell_type": "code",
   "execution_count": 17,
   "id": "0066e568",
   "metadata": {},
   "outputs": [
    {
     "data": {
      "text/plain": [
       "([2, -3.4],\n",
       " \n",
       " [[ 1.9993079 -3.3993926]]\n",
       " <NDArray 1x2 @cpu(0)>)"
      ]
     },
     "execution_count": 17,
     "metadata": {},
     "output_type": "execute_result"
    }
   ],
   "source": [
    "true_w,dense.weight.data()"
   ]
  },
  {
   "cell_type": "code",
   "execution_count": 18,
   "id": "6fd2f6c7",
   "metadata": {},
   "outputs": [
    {
     "data": {
      "text/plain": [
       "(4.2,\n",
       " \n",
       " [4.199671]\n",
       " <NDArray 1 @cpu(0)>)"
      ]
     },
     "execution_count": 18,
     "metadata": {},
     "output_type": "execute_result"
    }
   ],
   "source": [
    "true_b,dense.bias.data()"
   ]
  },
  {
   "cell_type": "code",
   "execution_count": null,
   "id": "0aa1d342",
   "metadata": {},
   "outputs": [],
   "source": []
  }
 ],
 "metadata": {
  "kernelspec": {
   "display_name": "Python 3",
   "language": "python",
   "name": "python3"
  },
  "language_info": {
   "codemirror_mode": {
    "name": "ipython",
    "version": 3
   },
   "file_extension": ".py",
   "mimetype": "text/x-python",
   "name": "python",
   "nbconvert_exporter": "python",
   "pygments_lexer": "ipython3",
   "version": "3.6.13"
  }
 },
 "nbformat": 4,
 "nbformat_minor": 5
}
